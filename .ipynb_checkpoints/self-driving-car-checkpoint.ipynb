{
 "cells": [
  {
   "cell_type": "markdown",
   "metadata": {},
   "source": [
    "# a self-driving car in pytorch"
   ]
  },
  {
   "cell_type": "raw",
   "metadata": {},
   "source": [
    "# . . tugrul konuk\n",
    "# . . this notebook implements and modifies the methods and ideas presented in the paper \n",
    "# . . \"End to end Learning for Self-Driving Cars\"\n",
    "# . . https://arxiv.org/pdf/1604.07316v1.pdf"
   ]
  },
  {
   "cell_type": "markdown",
   "metadata": {},
   "source": [
    "## import libraries"
   ]
  },
  {
   "cell_type": "code",
   "execution_count": 1,
   "metadata": {},
   "outputs": [],
   "source": [
    "# . . import libraries\n",
    "import os\n",
    "from pathlib import Path\n",
    "# . . pytorch modules\n",
    "import torch\n",
    "import torch.nn as nn\n",
    "import torch.optim as optim\n",
    "from torch.utils import data\n",
    "from torch.utils.data import DataLoader\n",
    "import torchvision.transforms as transforms\n",
    "# . . opencv\n",
    "import cv2\n",
    "# . . pandas \n",
    "import pandas as pd\n",
    "# . . numpy\n",
    "import numpy as np\n",
    "# . . scikit-learn\n",
    "from sklearn.utils import shuffle\n",
    "from sklearn.model_selection import train_test_split\n",
    "# . . matplotlib\n",
    "import matplotlib.pyplot as plt\n",
    "import matplotlib.image as npimg\n",
    "# . .  set this to be able to see the figure axis labels in a dark theme\n",
    "from matplotlib import style\n",
    "style.use('dark_background')\n",
    "# . . to see the available options\n",
    "# print(plt.style.available)\n",
    "\n",
    "# . . import libraries by tugrulkonuk\n",
    "import utils"
   ]
  },
  {
   "cell_type": "markdown",
   "metadata": {},
   "source": [
    "## import the data\n"
   ]
  },
  {
   "cell_type": "code",
   "execution_count": 2,
   "metadata": {},
   "outputs": [
    {
     "name": "stderr",
     "output_type": "stream",
     "text": [
      "/hdd0/anaconda3/envs/torch/lib/python3.7/site-packages/ipykernel_launcher.py:12: FutureWarning: Passing a negative integer is deprecated in version 1.0 and will not be supported in future version. Instead, use None to not limit the column width.\n",
      "  if sys.path[0] == '':\n"
     ]
    },
    {
     "data": {
      "text/html": [
       "<div>\n",
       "<style scoped>\n",
       "    .dataframe tbody tr th:only-of-type {\n",
       "        vertical-align: middle;\n",
       "    }\n",
       "\n",
       "    .dataframe tbody tr th {\n",
       "        vertical-align: top;\n",
       "    }\n",
       "\n",
       "    .dataframe thead th {\n",
       "        text-align: right;\n",
       "    }\n",
       "</style>\n",
       "<table border=\"1\" class=\"dataframe\">\n",
       "  <thead>\n",
       "    <tr style=\"text-align: right;\">\n",
       "      <th></th>\n",
       "      <th>center</th>\n",
       "      <th>left</th>\n",
       "      <th>right</th>\n",
       "      <th>steering</th>\n",
       "      <th>throttle</th>\n",
       "      <th>brake</th>\n",
       "      <th>speed</th>\n",
       "    </tr>\n",
       "  </thead>\n",
       "  <tbody>\n",
       "    <tr>\n",
       "      <th>1</th>\n",
       "      <td>IMG/center_2016_12_01_13_30_48_287.jpg</td>\n",
       "      <td>IMG/left_2016_12_01_13_30_48_287.jpg</td>\n",
       "      <td>IMG/right_2016_12_01_13_30_48_287.jpg</td>\n",
       "      <td>0</td>\n",
       "      <td>0</td>\n",
       "      <td>0</td>\n",
       "      <td>22.14829</td>\n",
       "    </tr>\n",
       "    <tr>\n",
       "      <th>2</th>\n",
       "      <td>IMG/center_2016_12_01_13_30_48_404.jpg</td>\n",
       "      <td>IMG/left_2016_12_01_13_30_48_404.jpg</td>\n",
       "      <td>IMG/right_2016_12_01_13_30_48_404.jpg</td>\n",
       "      <td>0</td>\n",
       "      <td>0</td>\n",
       "      <td>0</td>\n",
       "      <td>21.87963</td>\n",
       "    </tr>\n",
       "    <tr>\n",
       "      <th>3</th>\n",
       "      <td>IMG/center_2016_12_01_13_31_12_937.jpg</td>\n",
       "      <td>IMG/left_2016_12_01_13_31_12_937.jpg</td>\n",
       "      <td>IMG/right_2016_12_01_13_31_12_937.jpg</td>\n",
       "      <td>0</td>\n",
       "      <td>0</td>\n",
       "      <td>0</td>\n",
       "      <td>1.453011</td>\n",
       "    </tr>\n",
       "    <tr>\n",
       "      <th>4</th>\n",
       "      <td>IMG/center_2016_12_01_13_31_13_037.jpg</td>\n",
       "      <td>IMG/left_2016_12_01_13_31_13_037.jpg</td>\n",
       "      <td>IMG/right_2016_12_01_13_31_13_037.jpg</td>\n",
       "      <td>0</td>\n",
       "      <td>0</td>\n",
       "      <td>0</td>\n",
       "      <td>1.438419</td>\n",
       "    </tr>\n",
       "    <tr>\n",
       "      <th>5</th>\n",
       "      <td>IMG/center_2016_12_01_13_31_13_177.jpg</td>\n",
       "      <td>IMG/left_2016_12_01_13_31_13_177.jpg</td>\n",
       "      <td>IMG/right_2016_12_01_13_31_13_177.jpg</td>\n",
       "      <td>0</td>\n",
       "      <td>0</td>\n",
       "      <td>0</td>\n",
       "      <td>1.418236</td>\n",
       "    </tr>\n",
       "  </tbody>\n",
       "</table>\n",
       "</div>"
      ],
      "text/plain": [
       "                                   center  \\\n",
       "1  IMG/center_2016_12_01_13_30_48_287.jpg   \n",
       "2  IMG/center_2016_12_01_13_30_48_404.jpg   \n",
       "3  IMG/center_2016_12_01_13_31_12_937.jpg   \n",
       "4  IMG/center_2016_12_01_13_31_13_037.jpg   \n",
       "5  IMG/center_2016_12_01_13_31_13_177.jpg   \n",
       "\n",
       "                                    left  \\\n",
       "1   IMG/left_2016_12_01_13_30_48_287.jpg   \n",
       "2   IMG/left_2016_12_01_13_30_48_404.jpg   \n",
       "3   IMG/left_2016_12_01_13_31_12_937.jpg   \n",
       "4   IMG/left_2016_12_01_13_31_13_037.jpg   \n",
       "5   IMG/left_2016_12_01_13_31_13_177.jpg   \n",
       "\n",
       "                                    right steering throttle brake      speed  \n",
       "1   IMG/right_2016_12_01_13_30_48_287.jpg   0        0        0     22.14829  \n",
       "2   IMG/right_2016_12_01_13_30_48_404.jpg   0        0        0     21.87963  \n",
       "3   IMG/right_2016_12_01_13_31_12_937.jpg   0        0        0     1.453011  \n",
       "4   IMG/right_2016_12_01_13_31_13_037.jpg   0        0        0     1.438419  \n",
       "5   IMG/right_2016_12_01_13_31_13_177.jpg   0        0        0     1.418236  "
      ]
     },
     "execution_count": 2,
     "metadata": {},
     "output_type": "execute_result"
    }
   ],
   "source": [
    "# . . define the data directory and file name\n",
    "datadir = os.path.abspath(os.path.join(os.getcwd(), os.pardir)) +'/data/'\n",
    "datafile= 'driving_log.csv'\n",
    "# . . three camera images and the driving parameters\n",
    "header = ['center', 'left', 'right', 'steering', 'throttle', 'brake', 'speed']\n",
    "data = pd.read_csv(os.path.join(datadir,datafile), names=header)\n",
    "\n",
    "# . . remove the header from the data\n",
    "data = data.iloc[1:]\n",
    "\n",
    "# . . display first a few rows\n",
    "pd.set_option('display.max_colwidth', -1)\n",
    "data.head()"
   ]
  },
  {
   "cell_type": "markdown",
   "metadata": {},
   "source": [
    "## data processing"
   ]
  },
  {
   "cell_type": "markdown",
   "metadata": {},
   "source": [
    "### strip data paths from file names"
   ]
  },
  {
   "cell_type": "code",
   "execution_count": 3,
   "metadata": {},
   "outputs": [
    {
     "data": {
      "text/html": [
       "<div>\n",
       "<style scoped>\n",
       "    .dataframe tbody tr th:only-of-type {\n",
       "        vertical-align: middle;\n",
       "    }\n",
       "\n",
       "    .dataframe tbody tr th {\n",
       "        vertical-align: top;\n",
       "    }\n",
       "\n",
       "    .dataframe thead th {\n",
       "        text-align: right;\n",
       "    }\n",
       "</style>\n",
       "<table border=\"1\" class=\"dataframe\">\n",
       "  <thead>\n",
       "    <tr style=\"text-align: right;\">\n",
       "      <th></th>\n",
       "      <th>center</th>\n",
       "      <th>left</th>\n",
       "      <th>right</th>\n",
       "      <th>steering</th>\n",
       "      <th>throttle</th>\n",
       "      <th>brake</th>\n",
       "      <th>speed</th>\n",
       "    </tr>\n",
       "  </thead>\n",
       "  <tbody>\n",
       "    <tr>\n",
       "      <th>1</th>\n",
       "      <td>center_2016_12_01_13_30_48_287.jpg</td>\n",
       "      <td>left_2016_12_01_13_30_48_287.jpg</td>\n",
       "      <td>right_2016_12_01_13_30_48_287.jpg</td>\n",
       "      <td>0</td>\n",
       "      <td>0</td>\n",
       "      <td>0</td>\n",
       "      <td>22.14829</td>\n",
       "    </tr>\n",
       "    <tr>\n",
       "      <th>2</th>\n",
       "      <td>center_2016_12_01_13_30_48_404.jpg</td>\n",
       "      <td>left_2016_12_01_13_30_48_404.jpg</td>\n",
       "      <td>right_2016_12_01_13_30_48_404.jpg</td>\n",
       "      <td>0</td>\n",
       "      <td>0</td>\n",
       "      <td>0</td>\n",
       "      <td>21.87963</td>\n",
       "    </tr>\n",
       "    <tr>\n",
       "      <th>3</th>\n",
       "      <td>center_2016_12_01_13_31_12_937.jpg</td>\n",
       "      <td>left_2016_12_01_13_31_12_937.jpg</td>\n",
       "      <td>right_2016_12_01_13_31_12_937.jpg</td>\n",
       "      <td>0</td>\n",
       "      <td>0</td>\n",
       "      <td>0</td>\n",
       "      <td>1.453011</td>\n",
       "    </tr>\n",
       "    <tr>\n",
       "      <th>4</th>\n",
       "      <td>center_2016_12_01_13_31_13_037.jpg</td>\n",
       "      <td>left_2016_12_01_13_31_13_037.jpg</td>\n",
       "      <td>right_2016_12_01_13_31_13_037.jpg</td>\n",
       "      <td>0</td>\n",
       "      <td>0</td>\n",
       "      <td>0</td>\n",
       "      <td>1.438419</td>\n",
       "    </tr>\n",
       "    <tr>\n",
       "      <th>5</th>\n",
       "      <td>center_2016_12_01_13_31_13_177.jpg</td>\n",
       "      <td>left_2016_12_01_13_31_13_177.jpg</td>\n",
       "      <td>right_2016_12_01_13_31_13_177.jpg</td>\n",
       "      <td>0</td>\n",
       "      <td>0</td>\n",
       "      <td>0</td>\n",
       "      <td>1.418236</td>\n",
       "    </tr>\n",
       "  </tbody>\n",
       "</table>\n",
       "</div>"
      ],
      "text/plain": [
       "                               center                              left  \\\n",
       "1  center_2016_12_01_13_30_48_287.jpg  left_2016_12_01_13_30_48_287.jpg   \n",
       "2  center_2016_12_01_13_30_48_404.jpg  left_2016_12_01_13_30_48_404.jpg   \n",
       "3  center_2016_12_01_13_31_12_937.jpg  left_2016_12_01_13_31_12_937.jpg   \n",
       "4  center_2016_12_01_13_31_13_037.jpg  left_2016_12_01_13_31_13_037.jpg   \n",
       "5  center_2016_12_01_13_31_13_177.jpg  left_2016_12_01_13_31_13_177.jpg   \n",
       "\n",
       "                               right steering throttle brake      speed  \n",
       "1  right_2016_12_01_13_30_48_287.jpg   0        0        0     22.14829  \n",
       "2  right_2016_12_01_13_30_48_404.jpg   0        0        0     21.87963  \n",
       "3  right_2016_12_01_13_31_12_937.jpg   0        0        0     1.453011  \n",
       "4  right_2016_12_01_13_31_13_037.jpg   0        0        0     1.438419  \n",
       "5  right_2016_12_01_13_31_13_177.jpg   0        0        0     1.418236  "
      ]
     },
     "execution_count": 3,
     "metadata": {},
     "output_type": "execute_result"
    }
   ],
   "source": [
    "# . . strip the path names from the camera images since they all have the same path\n",
    "data['center'] = data['center'].apply(utils.strip_path)\n",
    "data['left'] = data['left'].apply(utils.strip_path)\n",
    "data['right'] = data['right'].apply(utils.strip_path)\n",
    "data.head()"
   ]
  },
  {
   "cell_type": "code",
   "execution_count": 4,
   "metadata": {},
   "outputs": [
    {
     "data": {
      "image/png": "[encoded data removed]",
      "text/plain": [
       "<Figure size 432x288 with 1 Axes>"
      ]
     },
     "metadata": {
      "needs_background": "dark"
     },
     "output_type": "display_data"
    }
   ],
   "source": [
    "# . . plot the steering wheel angle\n",
    "num_bins = 50\n",
    "samples_per_bin = 10\n",
    "hist, bin_edges = np.histogram(np.array(data['steering'], dtype=float), num_bins)\n",
    "# . . center bins around zero\n",
    "bins = bin_edges[:-1] + bin_edges[1:] * 0.5\n",
    "# . . plot the steering histogram\n",
    "plt.bar(bins, hist, width=0.05)\n",
    "plt.plot((np.min(data['steering']), np.max(data['steering']), samples_per_bin))\n",
    "plt.xlim(-1.0,1.0)\n",
    "plt.show()"
   ]
  },
  {
   "cell_type": "markdown",
   "metadata": {},
   "source": [
    "### prepare the data and labels"
   ]
  },
  {
   "cell_type": "markdown",
   "metadata": {},
   "source": [
    "### split the data into training and validation sets"
   ]
  },
  {
   "cell_type": "code",
   "execution_count": 33,
   "metadata": {},
   "outputs": [],
   "source": [
    "# . . from pandas dataframe to numpy array\n",
    "img_paths = data[['center','left','right']].to_numpy()\n",
    "steerings = data[['steering']].to_numpy()"
   ]
  },
  {
   "cell_type": "code",
   "execution_count": 34,
   "metadata": {},
   "outputs": [],
   "source": [
    "X_train, X_valid, y_train, y_valid = train_test_split(img_paths, steerings, test_size=0.2, random_state=420)"
   ]
  },
  {
   "cell_type": "code",
   "execution_count": null,
   "metadata": {},
   "outputs": [],
   "source": []
  }
 ],
 "metadata": {
  "kernelspec": {
   "display_name": "Python 3",
   "language": "python",
   "name": "python3"
  },
  "language_info": {
   "codemirror_mode": {
    "name": "ipython",
    "version": 3
   },
   "file_extension": ".py",
   "mimetype": "text/x-python",
   "name": "python",
   "nbconvert_exporter": "python",
   "pygments_lexer": "ipython3",
   "version": "3.7.7"
  }
 },
 "nbformat": 4,
 "nbformat_minor": 4
}
